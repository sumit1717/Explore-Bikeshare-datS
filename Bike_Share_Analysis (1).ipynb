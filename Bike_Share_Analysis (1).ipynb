{
 "cells": [
  {
   "cell_type": "markdown",
   "metadata": {},
   "source": [
    "# 2016 US Bike Share Activity Snapshot\n",
    "\n",
    "## Table of Contents\n",
    "- [Introduction](#intro)\n",
    "- [Posing Questions](#pose_questions)\n",
    "- [Data Collection and Wrangling](#wrangling)\n",
    "  - [Condensing the Trip Data](#condensing)\n",
    "- [Exploratory Data Analysis](#eda)\n",
    "  - [Statistics](#statistics)\n",
    "  - [Visualizations](#visualizations)\n",
    "- [Performing Your Own Analysis](#eda_continued)\n",
    "- [Conclusions](#conclusions)\n",
    "\n",
    "<a id='intro'></a>\n",
    "## Introduction\n",
    "\n",
    "> **Tip**: Quoted sections like this will provide helpful instructions on how to navigate and use a Jupyter notebook.\n",
    "\n",
    "Over the past decade, bicycle-sharing systems have been growing in number and popularity in cities across the world. Bicycle-sharing systems allow users to rent bicycles for short trips, typically 30 minutes or less. Thanks to the rise in information technologies, it is easy for a user of the system to access a dock within the system to unlock or return bicycles. These technologies also provide a wealth of data that can be used to explore how these bike-sharing systems are used.\n",
    "\n",
    "In this project, you will perform an exploratory analysis on data provided by [Motivate](https://www.motivateco.com/), a bike-share system provider for many major cities in the United States. You will compare the system usage between three large cities: New York City, Chicago, and Washington, DC. You will also see if there are any differences within each system for those users that are registered, regular users and those users that are short-term, casual users."
   ]
  },
  {
   "cell_type": "markdown",
   "metadata": {},
   "source": [
    "<a id='pose_questions'></a>\n",
    "## Posing Questions\n",
    "\n",
    "Before looking at the bike sharing data, you should start by asking questions you might want to understand about the bike share data. Consider, for example, if you were working for Motivate. What kinds of information would you want to know about in order to make smarter business decisions? If you were a user of the bike-share service, what factors might influence how you would want to use the service?\n",
    "\n",
    "**Question 1**: Write at least two questions related to bike sharing that you think could be answered by data.\n",
    "\n",
    "**Answer**:    If I would be working for Motivate: \n",
    "                      - At which time during the day, the bikes are being used most.\n",
    "                      - On an average, for how much distance is the bike being used the most.\n",
    "           If I were a user:\n",
    "                      - What are the rates, in term of rates per minute or rates per hour.\n",
    "                      - Availability of the bikes, during working hours, during rush hours etc\n",
    "            \n",
    "\n",
    "> **Tip**: If you double click on this cell, you will see the text change so that all of the formatting is removed. This allows you to edit this block of text. This block of text is written using [Markdown](http://daringfireball.net/projects/markdown/syntax), which is a way to format text using headers, links, italics, and many other options using a plain-text syntax. You will also use Markdown later in the Nanodegree program. Use **Shift** + **Enter** or **Shift** + **Return** to run the cell and show its rendered form."
   ]
  },
  {
   "cell_type": "markdown",
   "metadata": {},
   "source": [
    "<a id='wrangling'></a>\n",
    "## Data Collection and Wrangling\n",
    "\n",
    "Now it's time to collect and explore our data. In this project, we will focus on the record of individual trips taken in 2016 from our selected cities: New York City, Chicago, and Washington, DC. Each of these cities has a page where we can freely download the trip data.:\n",
    "\n",
    "- New York City (Citi Bike): [Link](https://www.citibikenyc.com/system-data)\n",
    "- Chicago (Divvy): [Link](https://www.divvybikes.com/system-data)\n",
    "- Washington, DC (Capital Bikeshare): [Link](https://www.capitalbikeshare.com/system-data)\n",
    "\n",
    "If you visit these pages, you will notice that each city has a different way of delivering its data. Chicago updates with new data twice a year, Washington DC is quarterly, and New York City is monthly. **However, you do not need to download the data yourself.** The data has already been collected for you in the `/data/` folder of the project files. While the original data for 2016 is spread among multiple files for each city, the files in the `/data/` folder collect all of the trip data for the year into one file per city. Some data wrangling of inconsistencies in timestamp format within each city has already been performed for you. In addition, a random 2% sample of the original data is taken to make the exploration more manageable. \n",
    "\n",
    "**Question 2**: However, there is still a lot of data for us to investigate, so it's a good idea to start off by looking at one entry from each of the cities we're going to analyze. Run the first code cell below to load some packages and functions that you'll be using in your analysis. Then, complete the second code cell to print out the first trip recorded from each of the cities (the second line of each data file).\n",
    "\n",
    "> **Tip**: You can run a code cell like you formatted Markdown cells above by clicking on the cell and using the keyboard shortcut **Shift** + **Enter** or **Shift** + **Return**. Alternatively, a code cell can be executed using the **Play** button in the toolbar after selecting it. While the cell is running, you will see an asterisk in the message to the left of the cell, i.e. `In [*]:`. The asterisk will change into a number to show that execution has completed, e.g. `In [1]`. If there is output, it will show up as `Out [1]:`, with an appropriate number to match the \"In\" number."
   ]
  },
  {
   "cell_type": "code",
   "execution_count": 12,
   "metadata": {},
   "outputs": [],
   "source": [
    "## import all necessary packages and functions.\n",
    "import csv # read and write csv files\n",
    "from datetime import datetime # operations to parse dates\n",
    "from pprint import pprint # use to print data structures like dictionaries in\n",
    "                          # a nicer way than the base print function.\n"
   ]
  },
  {
   "cell_type": "code",
   "execution_count": 43,
   "metadata": {},
   "outputs": [
    {
     "name": "stdout",
     "output_type": "stream",
     "text": [
      "\n",
      "City: NYC\n",
      "OrderedDict([('tripduration', '839'),\n",
      "             ('starttime', '1/1/2016 00:09:55'),\n",
      "             ('stoptime', '1/1/2016 00:23:54'),\n",
      "             ('start station id', '532'),\n",
      "             ('start station name', 'S 5 Pl & S 4 St'),\n",
      "             ('start station latitude', '40.710451'),\n",
      "             ('start station longitude', '-73.960876'),\n",
      "             ('end station id', '401'),\n",
      "             ('end station name', 'Allen St & Rivington St'),\n",
      "             ('end station latitude', '40.72019576'),\n",
      "             ('end station longitude', '-73.98997825'),\n",
      "             ('bikeid', '17109'),\n",
      "             ('usertype', 'Customer'),\n",
      "             ('birth year', ''),\n",
      "             ('gender', '0')])\n",
      "\n",
      "City: Chicago\n",
      "OrderedDict([('trip_id', '9080545'),\n",
      "             ('starttime', '3/31/2016 23:30'),\n",
      "             ('stoptime', '3/31/2016 23:46'),\n",
      "             ('bikeid', '2295'),\n",
      "             ('tripduration', '926'),\n",
      "             ('from_station_id', '156'),\n",
      "             ('from_station_name', 'Clark St & Wellington Ave'),\n",
      "             ('to_station_id', '166'),\n",
      "             ('to_station_name', 'Ashland Ave & Wrightwood Ave'),\n",
      "             ('usertype', 'Subscriber'),\n",
      "             ('gender', 'Male'),\n",
      "             ('birthyear', '1990')])\n",
      "\n",
      "City: Washington\n",
      "OrderedDict([('Duration (ms)', '427387'),\n",
      "             ('Start date', '3/31/2016 22:57'),\n",
      "             ('End date', '3/31/2016 23:04'),\n",
      "             ('Start station number', '31602'),\n",
      "             ('Start station', 'Park Rd & Holmead Pl NW'),\n",
      "             ('End station number', '31207'),\n",
      "             ('End station', 'Georgia Ave and Fairmont St NW'),\n",
      "             ('Bike number', 'W20842'),\n",
      "             ('Member Type', 'Registered')])\n"
     ]
    }
   ],
   "source": [
    "import csv\n",
    "import pprint\n",
    "def print_first_point(filename):\n",
    "    \"\"\"\n",
    "    This function prints and returns the first data point (second row) from\n",
    "    a csv file that includes a header row.\n",
    "    \"\"\"\n",
    "    # print city name for reference\n",
    "    city = filename.split('-')[0].split('/')[-1]\n",
    "    print('\\nCity: {}'.format(city))\n",
    "    \n",
    "    with open(filename, 'r') as f_in:\n",
    "        ## TODO: Use the csv library to set up a DictReader object. ##\n",
    "        ## see https://docs.python.org/3/library/csv.html           ##\n",
    "        trip_reader =csv.DictReader(f_in)\n",
    "        \n",
    "        ## TODO: Use a function on the DictReader object to read the     ##\n",
    "        ## first trip from the data file and store it in a variable.     ##\n",
    "        ## see https://docs.python.org/3/library/csv.html#reader-objects ##\n",
    "        first_trip =trip_reader.__next__()\n",
    "        \n",
    "        ## TODO: Use the pprint library to print the first trip. ##\n",
    "        ## see https://docs.python.org/3/library/pprint.html     ##\n",
    "        pprint.pprint(first_trip)\n",
    "        \n",
    "    # output city name and first trip for later testing\n",
    "    return (city, first_trip)\n",
    "\n",
    "# list of files for each city\n",
    "data_files = ['./data/NYC-CitiBike-2016.csv',\n",
    "              './data/Chicago-Divvy-2016.csv',\n",
    "              './data/Washington-CapitalBikeshare-2016.csv',]\n",
    "\n",
    "# print the first trip from each file, store in dictionary\n",
    "example_trips = {}\n",
    "for data_file in data_files:\n",
    "    city, first_trip = print_first_point(data_file)\n",
    "    example_trips[city] = first_trip\n",
    "   # print(example_trips[city])"
   ]
  },
  {
   "cell_type": "markdown",
   "metadata": {},
   "source": [
    "If everything has been filled out correctly, you should see below the printout of each city name (which has been parsed from the data file name) that the first trip has been parsed in the form of a dictionary. When you set up a `DictReader` object, the first row of the data file is normally interpreted as column names. Every other row in the data file will use those column names as keys, as a dictionary is generated for each row.\n",
    "\n",
    "This will be useful since we can refer to quantities by an easily-understandable label instead of just a numeric index. For example, if we have a trip stored in the variable `row`, then we would rather get the trip duration from `row['duration']` instead of `row[0]`.\n",
    "\n",
    "<a id='condensing'></a>\n",
    "### Condensing the Trip Data\n",
    "\n",
    "It should also be observable from the above printout that each city provides different information. Even where the information is the same, the column names and formats are sometimes different. To make things as simple as possible when we get to the actual exploration, we should trim and clean the data. Cleaning the data makes sure that the data formats across the cities are consistent, while trimming focuses only on the parts of the data we are most interested in to make the exploration easier to work with.\n",
    "\n",
    "You will generate new data files with five values of interest for each trip: trip duration, starting month, starting hour, day of the week, and user type. Each of these may require additional wrangling depending on the city:\n",
    "\n",
    "- **Duration**: This has been given to us in seconds (New York, Chicago) or milliseconds (Washington). A more natural unit of analysis will be if all the trip durations are given in terms of minutes.\n",
    "- **Month**, **Hour**, **Day of Week**: Ridership volume is likely to change based on the season, time of day, and whether it is a weekday or weekend. Use the start time of the trip to obtain these values. The New York City data includes the seconds in their timestamps, while Washington and Chicago do not. The [`datetime`](https://docs.python.org/3/library/datetime.html) package will be very useful here to make the needed conversions.\n",
    "- **User Type**: It is possible that users who are subscribed to a bike-share system will have different patterns of use compared to users who only have temporary passes. Washington divides its users into two types: 'Registered' for users with annual, monthly, and other longer-term subscriptions, and 'Casual', for users with 24-hour, 3-day, and other short-term passes. The New York and Chicago data uses 'Subscriber' and 'Customer' for these groups, respectively. For consistency, you will convert the Washington labels to match the other two.\n",
    "\n",
    "\n",
    "**Question 3a**: Complete the helper functions in the code cells below to address each of the cleaning tasks described above."
   ]
  },
  {
   "cell_type": "code",
   "execution_count": 44,
   "metadata": {},
   "outputs": [],
   "source": [
    "def duration_in_mins(datum, city):\n",
    "    \"\"\"\n",
    "    Takes as input a dictionary containing info about a single trip (datum) and\n",
    "    its origin city (city) and returns the trip duration in units of minutes.\n",
    "    \n",
    "    Remember that Washington is in terms of milliseconds while Chicago and NYC\n",
    "    are in terms of seconds. \n",
    "    \n",
    "    HINT: The csv module reads in all of the data as strings, including numeric\n",
    "    values. You will need a function to convert the strings into an appropriate\n",
    "    numeric type when making your transformations.\n",
    "    see https://docs.python.org/3/library/functions.html\n",
    "    \"\"\"\n",
    "    \n",
    "    # YOUR CODE HERE\n",
    "    if city=='Washington':\n",
    "        duration=int(datum['Duration (ms)'])\n",
    "        duration=(duration/(1000*60))%60\n",
    "    else:\n",
    "        duration=int(datum['tripduration'])\n",
    "        duration=duration/60\n",
    "     \n",
    "    #limiting-floats-to-four-decimal-points\n",
    "    duration = float(\"{0:.4f}\".format(duration))\n",
    "    return duration\n",
    "\n",
    "\n",
    "# Some tests to check that your , code works. There should be no output if all of\n",
    "# the assertions pass. The `example_trips` dictionary was obtained from when\n",
    "# you printed the first trip from each of the original data files.\n",
    "tests = {'NYC': 13.9833,\n",
    "         'Chicago': 15.4333,\n",
    "         'Washington': 7.1231}\n",
    "\n",
    "for city in tests:\n",
    "    assert abs(duration_in_mins(example_trips[city], city) - tests[city]) < .001"
   ]
  },
  {
   "cell_type": "code",
   "execution_count": 45,
   "metadata": {},
   "outputs": [],
   "source": [
    "from datetime import datetime as dt\n",
    "def time_of_trip(datum, city):\n",
    "    \"\"\"\n",
    "    Takes as input a dictionary containing info about a single trip (datum) and\n",
    "    its origin city (city) and returns the month, hour, and day of the week in\n",
    "    which the trip was made.\n",
    "    \n",
    "    Remember that NYC includes seconds, while Washington and Chicago do not.\n",
    "    \n",
    "    HINT: You should use the datetime module to parse the original date\n",
    "    strings into a format that is useful for extracting the desired information.\n",
    "    see https://docs.python.org/3/library/datetime.html#strftime-and-strptime-behavior\n",
    "    \"\"\"\n",
    "    \n",
    "    # YOUR CODE HERE\n",
    "    if city=='Washington':\n",
    "        Start_date=datum['Start date']\n",
    "        date=dt.strptime(Start_date,\"%m/%d/%Y %H:%M\")\n",
    "        \n",
    "    elif city=='Chicago':\n",
    "        Start_date=datum['starttime']\n",
    "        date=dt.strptime(Start_date,\"%m/%d/%Y %H:%M\")\n",
    "        \n",
    "    else:\n",
    "        Start_date=datum['starttime']\n",
    "        date=dt.strptime(Start_date,\"%m/%d/%Y %H:%M:%S\")\n",
    "        \n",
    "    month=date.month\n",
    "    hour=date.hour\n",
    "    day_of_week=date.strftime(\"%A\")         \n",
    "    \n",
    "    \n",
    "    return (month, hour, day_of_week)\n",
    "\n",
    "\n",
    "# Some tests to check that your code works. There should be no output if all of\n",
    "# the assertions pass. The `example_trips` dictionary was obtained from when\n",
    "# you printed the first trip from each of the original data files.\n",
    "tests = {'NYC': (1, 0, 'Friday'),\n",
    "         'Chicago': (3, 23, 'Thursday'),\n",
    "         'Washington': (3, 22, 'Thursday')}\n",
    "\n",
    "for city in tests:\n",
    "    assert time_of_trip(example_trips[city], city) == tests[city]"
   ]
  },
  {
   "cell_type": "code",
   "execution_count": 48,
   "metadata": {},
   "outputs": [],
   "source": [
    "def type_of_user(datum, city):\n",
    "    \"\"\"\n",
    "    Takes as input a dictionary containing info about a single trip (datum) and\n",
    "    its origin city (city) and returns the type of system user that made the\n",
    "    trip.\n",
    "    \n",
    "    Remember that Washington has different category names compared to Chicago\n",
    "    and NYC. \n",
    "    \"\"\"\n",
    "    \n",
    "    # YOUR CODE HERE\n",
    "    #if the member type is registered then we will chnage it to Subscriber \n",
    "    #else if it is Casual we will change it to Customer\n",
    "    #print(datum)\n",
    "    if city=='Washington':\n",
    "        if datum['Member Type']=='Registered':\n",
    "            datum['Member Type']='Subscriber'\n",
    "        elif datum['Member Type']=='Casual':\n",
    "            datum['Member Type']='Customer'\n",
    "    \n",
    "    if city=='Washington': \n",
    "        user_type=datum['Member Type']\n",
    "    else:\n",
    "        user_type=datum['usertype']\n",
    "    #print(user_type)\n",
    "    return user_type\n",
    "\n",
    "\n",
    "# Some tests to check that your code works. There should be no output if all of\n",
    "# the assertions pass. The `example_trips` dictionary was obtained from when\n",
    "# you printed the first trip from each of the original data files.\n",
    "tests = {'NYC': 'Customer',\n",
    "         'Chicago': 'Subscriber',\n",
    "         'Washington': 'Subscriber'}\n",
    "\n",
    "for city in tests:\n",
    "    assert type_of_user(example_trips[city], city) == tests[city]"
   ]
  },
  {
   "cell_type": "markdown",
   "metadata": {},
   "source": [
    "**Question 3b**: Now, use the helper functions you wrote above to create a condensed data file for each city consisting only of the data fields indicated above. In the `/examples/` folder, you will see an example datafile from the [Bay Area Bike Share](http://www.bayareabikeshare.com/open-data) before and after conversion. Make sure that your output is formatted to be consistent with the example file."
   ]
  },
  {
   "cell_type": "code",
   "execution_count": 50,
   "metadata": {},
   "outputs": [],
   "source": [
    "import csv\n",
    "def condense_data(in_file, out_file, city):\n",
    "    \"\"\"\n",
    "    This function takes full data from the specified input file\n",
    "    and writes the condensed data to a specified output file. The city\n",
    "    argument determines how the input file will be parsed.\n",
    "    \n",
    "    HINT: See the cell below to see how the arguments are structured!\n",
    "    \"\"\"\n",
    "    \n",
    "    with open(out_file, 'w') as f_out, open(in_file, 'r') as f_in:\n",
    "        # set up csv DictWriter object - writer requires column names for the\n",
    "        # first row as the \"fieldnames\" argument\n",
    "        out_colnames = ['duration', 'month', 'hour', 'day_of_week', 'user_type']        \n",
    "        trip_writer = csv.DictWriter(f_out, fieldnames = out_colnames)\n",
    "        trip_writer.writeheader()\n",
    "        \n",
    "        ## TODO: set up csv DictReader object ##\n",
    "        trip_reader =csv.DictReader(f_in)\n",
    "\n",
    "        # collect data from and process each row\n",
    "        for row in trip_reader:\n",
    "            # set up a dictionary to hold the values for the cleaned and trimmed\n",
    "            # data point\n",
    "            new_point = {}\n",
    "\n",
    "            ## TODO: use the helper functions to get the cleaned data from  ##\n",
    "            ## the original data dictionaries.                              ##\n",
    "            ## Note that the keys for the new_point dictionary should match ##\n",
    "            ## the column names set in the DictWriter object above.         ##\n",
    "            new_point['duration']=duration_in_mins(row, city)\n",
    "            \n",
    "            new_point['month'],new_point['hour'],new_point['day_of_week']=time_of_trip(row, city)\n",
    "            \n",
    "            new_point['user_type']=type_of_user(row, city)\n",
    "            \n",
    "            \n",
    "\n",
    "            ## TODO: write the processed information to the output file.     ##\n",
    "            ## see https://docs.python.org/3/library/csv.html#writer-objects ##\n",
    "            trip_writer.writerow(new_point)\n",
    "            \n",
    "            "
   ]
  },
  {
   "cell_type": "code",
   "execution_count": 51,
   "metadata": {},
   "outputs": [
    {
     "name": "stdout",
     "output_type": "stream",
     "text": [
      "\n",
      "City: Washington\n",
      "OrderedDict([('duration', '7.1231'),\n",
      "             ('month', '3'),\n",
      "             ('hour', '22'),\n",
      "             ('day_of_week', 'Thursday'),\n",
      "             ('user_type', 'Subscriber')])\n",
      "\n",
      "City: Chicago\n",
      "OrderedDict([('duration', '15.4333'),\n",
      "             ('month', '3'),\n",
      "             ('hour', '23'),\n",
      "             ('day_of_week', 'Thursday'),\n",
      "             ('user_type', 'Subscriber')])\n",
      "\n",
      "City: NYC\n",
      "OrderedDict([('duration', '13.9833'),\n",
      "             ('month', '1'),\n",
      "             ('hour', '0'),\n",
      "             ('day_of_week', 'Friday'),\n",
      "             ('user_type', 'Customer')])\n"
     ]
    }
   ],
   "source": [
    "# Run this cell to check your work\n",
    "city_info = {'Washington': {'in_file': './data/Washington-CapitalBikeshare-2016.csv',\n",
    "                            'out_file': './data/Washington-2016-Summary.csv'},\n",
    "             'Chicago': {'in_file': './data/Chicago-Divvy-2016.csv',\n",
    "                         'out_file': './data/Chicago-2016-Summary.csv'},\n",
    "             'NYC': {'in_file': './data/NYC-CitiBike-2016.csv',\n",
    "                     'out_file': './data/NYC-2016-Summary.csv'}}\n",
    "\n",
    "for city, filenames in city_info.items():\n",
    "    condense_data(filenames['in_file'], filenames['out_file'], city)\n",
    "    print_first_point(filenames['out_file'])"
   ]
  },
  {
   "cell_type": "markdown",
   "metadata": {},
   "source": [
    "> **Tip**: If you save a jupyter Notebook, the output from running code blocks will also be saved. However, the state of your workspace will be reset once a new session is started. Make sure that you run all of the necessary code blocks from your previous session to reestablish variables and functions before picking up where you last left off.\n",
    "\n",
    "<a id='eda'></a>\n",
    "## Exploratory Data Analysis\n",
    "\n",
    "Now that you have the data collected and wrangled, you're ready to start exploring the data. In this section you will write some code to compute descriptive statistics from the data. You will also be introduced to the `matplotlib` library to create some basic histograms of the data.\n",
    "\n",
    "<a id='statistics'></a>\n",
    "### Statistics\n",
    "\n",
    "First, let's compute some basic counts. The first cell below contains a function that uses the csv module to iterate through a provided data file, returning the number of trips made by subscribers and customers. The second cell runs this function on the example Bay Area data in the `/examples/` folder. Modify the cells to answer the question below.\n",
    "\n",
    "**Question 4a**: Which city has the highest number of trips? Which city has the highest proportion of trips made by subscribers? Which city has the highest proportion of trips made by short-term customers?\n",
    "\n",
    "**Answer**: \n",
    "            \n",
    "            The city which has the highest number of trips: New York (276798).\n",
    "\n",
    "            The city that has the highest proportion of trips made by subscribers: New York (245896/276798).\n",
    "            \n",
    "            The city that has the highest proportion of trips made by short-term customers: Chicago (17149/72131).\n",
    "            "
   ]
  },
  {
   "cell_type": "code",
   "execution_count": 52,
   "metadata": {},
   "outputs": [],
   "source": [
    "def number_of_trips(filename):\n",
    "    \"\"\"\n",
    "    This function reads in a file with trip data and reports the number of\n",
    "    trips made by subscribers, customers, and total overall.\n",
    "    \"\"\"\n",
    "    with open(filename, 'r') as f_in:\n",
    "        # set up csv reader object\n",
    "        reader = csv.DictReader(f_in)\n",
    "        \n",
    "        # initialize count variables\n",
    "        n_subscribers = 0\n",
    "        n_customers = 0\n",
    "        \n",
    "        # tally up ride types\n",
    "        for row in reader:\n",
    "            if row['user_type'] == 'Subscriber':\n",
    "                n_subscribers += 1\n",
    "            else:\n",
    "                n_customers += 1\n",
    "        \n",
    "        # compute total number of rides\n",
    "        n_total = n_subscribers + n_customers\n",
    "        \n",
    "        # return tallies as a tuple\n",
    "        return(n_subscribers, n_customers, n_total)"
   ]
  },
  {
   "cell_type": "code",
   "execution_count": 53,
   "metadata": {},
   "outputs": [
    {
     "name": "stdout",
     "output_type": "stream",
     "text": [
      "(245896, 30902, 276798)\n"
     ]
    }
   ],
   "source": [
    "#for New york city\n",
    "data_file = './data/NYC-2016-Summary.csv'\n",
    "print(number_of_trips(data_file))"
   ]
  },
  {
   "cell_type": "code",
   "execution_count": 54,
   "metadata": {},
   "outputs": [
    {
     "name": "stdout",
     "output_type": "stream",
     "text": [
      "(54982, 17149, 72131)\n"
     ]
    }
   ],
   "source": [
    "#for chicago city\n",
    "data_file = './data/Chicago-2016-Summary.csv'\n",
    "print(number_of_trips(data_file))"
   ]
  },
  {
   "cell_type": "code",
   "execution_count": 55,
   "metadata": {},
   "outputs": [
    {
     "name": "stdout",
     "output_type": "stream",
     "text": [
      "(51753, 14573, 66326)\n"
     ]
    }
   ],
   "source": [
    "## Modify this and the previous cell to answer Question 4a. Remember to run ##\n",
    "## the function on the cleaned data files you created from Question 3.      ##\n",
    "#for Washington city\n",
    "data_file = './data/Washington-2016-Summary.csv'\n",
    "print(number_of_trips(data_file))"
   ]
  },
  {
   "cell_type": "markdown",
   "metadata": {},
   "source": [
    "> **Tip**: In order to add additional cells to a notebook, you can use the \"Insert Cell Above\" and \"Insert Cell Below\" options from the menu bar above. There is also an icon in the toolbar for adding new cells, with additional icons for moving the cells up and down the document. By default, new cells are of the code type; you can also specify the cell type (e.g. Code or Markdown) of selected cells from the Cell menu or the dropdown in the toolbar.\n",
    "\n",
    "Now, you will write your own code to continue investigating properties of the data.\n",
    "\n",
    "**Question 4b**: Bike-share systems are designed for riders to take short trips. Most of the time, users are allowed to take trips of 30 minutes or less with no additional charges, with overage charges made for trips of longer than that duration. What is the average trip length for each city? What proportion of rides made in each city are longer than 30 minutes?\n",
    "\n",
    "**Answer**:    \n",
    "              \n",
    "              For New york city:\n",
    "                   The average trip length is 15.8 min minutes \n",
    "                   and 7.3% of trips are longer than 30 minutes.\n",
    "                   \n",
    "               For Chicago city:\n",
    "                   The average trip length is 16.6 min minutes \n",
    "                   and 8.3% of trips are longer than 30 minutes.\n",
    "                   \n",
    "               For Washington city:\n",
    "                   The average trip length is 14.2 min minutes \n",
    "                   and 7.9% of trips are longer than 30 minutes.\n",
    "                    "
   ]
  },
  {
   "cell_type": "code",
   "execution_count": 56,
   "metadata": {
    "scrolled": true
   },
   "outputs": [],
   "source": [
    "## Use this and additional cells to answer Question 4b.                 ##\n",
    "##                                                                      ##\n",
    "## HINT: The csv module reads in all of the data as strings, including  ##\n",
    "## numeric values. You will need a function to convert the strings      ##\n",
    "## into an appropriate numeric type before you aggregate data.          ##\n",
    "## TIP: For the Bay Area example, the average trip length is 14 minutes ##\n",
    "## and 3.5% of trips are longer than 30 minutes.                        ##\n",
    "\n",
    "def avg_trip_len(filename):\n",
    "    \"\"\"\n",
    "    This function reads in a file with trip data and return the average trip length \n",
    "    and proportion of rides made in each city are longer than 30 minutes.\n",
    "    \"\"\"\n",
    "    with open(filename, 'r') as f_in:\n",
    "        # set up csv reader object\n",
    "        reader = csv.DictReader(f_in)\n",
    "        \n",
    "        # initialize variable \n",
    "        #for averge \n",
    "        avg= 0\n",
    "        ride_longer_thirty=0\n",
    "        \n",
    "        #and sum of all duration(add)\n",
    "        add= 0\n",
    "        \n",
    "        #count to count the total number of trip made\n",
    "        count=0\n",
    "        #count to count trips longer than 30 minutes\n",
    "        count_longer_thirty=0\n",
    "        \n",
    "        # tally up the total duration by the users\n",
    "        for row in reader:\n",
    "            add=add+float(row['duration'])\n",
    "            count+=1\n",
    "            if float(row['duration'])>30:\n",
    "                count_longer_thirty+=1\n",
    "        \n",
    "        # compute average\n",
    "        avg=add/count\n",
    "        #limiting-floats-to-two-decimal-points\n",
    "        avg = float(\"{0:.2f}\".format(avg))\n",
    "        \n",
    "        #compute proportion of rides made in each city that are longer than 30 minutes.\n",
    "        ride_longer_thirty=(count_longer_thirty/count)*100\n",
    "        #limiting-floats-to-two-decimal-points\n",
    "        ride_longer_thirty = float(\"{0:.2f}\".format(ride_longer_thirty))\n",
    "            \n",
    "        # return average and ride longer than thirty minute\n",
    "        return(avg,ride_longer_thirty)"
   ]
  },
  {
   "cell_type": "code",
   "execution_count": 57,
   "metadata": {},
   "outputs": [
    {
     "name": "stdout",
     "output_type": "stream",
     "text": [
      "(14.04, 3.52)\n"
     ]
    }
   ],
   "source": [
    "#for Bay area\n",
    "data_file = './examples/BayArea-Y3-Summary.csv'\n",
    "print(avg_trip_len(data_file))"
   ]
  },
  {
   "cell_type": "code",
   "execution_count": 58,
   "metadata": {},
   "outputs": [
    {
     "name": "stdout",
     "output_type": "stream",
     "text": [
      "(15.81, 7.3)\n"
     ]
    }
   ],
   "source": [
    "#for New york city\n",
    "data_file = './data/NYC-2016-Summary.csv'\n",
    "print(avg_trip_len(data_file))"
   ]
  },
  {
   "cell_type": "code",
   "execution_count": 59,
   "metadata": {},
   "outputs": [
    {
     "name": "stdout",
     "output_type": "stream",
     "text": [
      "(16.56, 8.33)\n"
     ]
    }
   ],
   "source": [
    "#for chicago city\n",
    "data_file = './data/Chicago-2016-Summary.csv'\n",
    "print(avg_trip_len(data_file))"
   ]
  },
  {
   "cell_type": "code",
   "execution_count": 60,
   "metadata": {},
   "outputs": [
    {
     "name": "stdout",
     "output_type": "stream",
     "text": [
      "(14.22, 7.98)\n"
     ]
    }
   ],
   "source": [
    "#for washington city\n",
    "data_file = './data/Washington-2016-Summary.csv'\n",
    "print(avg_trip_len(data_file))"
   ]
  },
  {
   "cell_type": "markdown",
   "metadata": {},
   "source": [
    "**Question 4c**: Dig deeper into the question of trip duration based on ridership. Choose one city. Within that city, which type of user takes longer rides on average: Subscribers or Customers?\n",
    "\n",
    "**Answer**: \n",
    "              \n",
    "              New York city: Customers\n",
    "              Chicago city : Customers\n",
    "              Washington city:Customers"
   ]
  },
  {
   "cell_type": "code",
   "execution_count": 61,
   "metadata": {},
   "outputs": [],
   "source": [
    "## Use this and additional cells to answer Question 4c. If you have    ##\n",
    "## not done so yet, consider revising some of your previous code to    ##\n",
    "## make use of functions for reusability.                              ##\n",
    "##                                                                     ##\n",
    "## TIP: For the Bay Area example data, you should find the average     ##\n",
    "## Subscriber trip duration to be 9.5 minutes and the average Customer ##\n",
    "## trip duration to be 54.6 minutes. Do the other cities have this     ##\n",
    "## level of difference?                                                ##\n",
    "\n",
    "def ridership(filename):\n",
    "    \"\"\"\n",
    "    This function reads in a file with trip data and reports that which type of user takes longer rides.\n",
    "    Subscribers or Customers\n",
    "    \"\"\"\n",
    "    with open(filename, 'r') as f_in:\n",
    "        # set up csv reader object\n",
    "        reader = csv.DictReader(f_in)\n",
    "        \"\"\"\n",
    "        # initialize count variables for customers and subscriber\n",
    "        n_subscribers = 0\n",
    "        n_customers = 0\n",
    "        \"\"\"\n",
    "        #initilize average variable for customers and subscriber\n",
    "        avg_Sub=0\n",
    "        avg_Cus=0\n",
    "        \n",
    "        #initialize add variables for total customers duration and total subscriber duration\n",
    "        add_Sub=0\n",
    "        add_Cus=0\n",
    "        # tally up each user_type total duration\n",
    "        for row in reader:\n",
    "            if row['user_type'] == 'Subscriber':\n",
    "            #    n_subscribers += 1\n",
    "                add_Sub=add_Sub+float(row['duration'])\n",
    "            else:\n",
    "            #    n_customers += 1\n",
    "                add_Cus=add_Cus+float(row['duration'])\n",
    "        \n",
    "        #callint function number_of_trips(filename), number of Customers and Subscribers\n",
    "        n_subscribers,n_customers,total_customers=number_of_trips(filename)\n",
    "        \n",
    "        # compute total average for Subscribers and Customers\n",
    "        avg_Sub=add_Sub/n_subscribers\n",
    "        avg_Cus=add_Cus/ n_customers\n",
    "        \n",
    "        #limiting-floats-to-one-decimal-points\n",
    "        avg_Sub = float(\"{0:.1f}\".format(avg_Sub))\n",
    "        avg_Cus = float(\"{0:.1f}\".format(avg_Cus))\n",
    "        \n",
    "        \n",
    "        # return average of both customer and subscriber trip duration\n",
    "        return(avg_Sub,avg_Cus)\n",
    "\n"
   ]
  },
  {
   "cell_type": "code",
   "execution_count": 62,
   "metadata": {},
   "outputs": [
    {
     "name": "stdout",
     "output_type": "stream",
     "text": [
      "(9.5, 54.6)\n"
     ]
    }
   ],
   "source": [
    "#for Bay area\n",
    "data_file = './examples/BayArea-Y3-Summary.csv'\n",
    "print(ridership(data_file))"
   ]
  },
  {
   "cell_type": "code",
   "execution_count": 63,
   "metadata": {},
   "outputs": [
    {
     "name": "stdout",
     "output_type": "stream",
     "text": [
      "(13.7, 32.8)\n"
     ]
    }
   ],
   "source": [
    "#for New york city\n",
    "data_file = './data/NYC-2016-Summary.csv'\n",
    "print(ridership(data_file))"
   ]
  },
  {
   "cell_type": "code",
   "execution_count": 64,
   "metadata": {},
   "outputs": [
    {
     "name": "stdout",
     "output_type": "stream",
     "text": [
      "(12.1, 31.0)\n"
     ]
    }
   ],
   "source": [
    "#for chicago city\n",
    "data_file = './data/Chicago-2016-Summary.csv'\n",
    "print(ridership(data_file))"
   ]
  },
  {
   "cell_type": "code",
   "execution_count": 65,
   "metadata": {},
   "outputs": [
    {
     "name": "stdout",
     "output_type": "stream",
     "text": [
      "(11.6, 23.6)\n"
     ]
    }
   ],
   "source": [
    "#for washington city\n",
    "data_file = './data/Washington-2016-Summary.csv'\n",
    "print(ridership(data_file))"
   ]
  },
  {
   "cell_type": "markdown",
   "metadata": {},
   "source": [
    "<a id='visualizations'></a>\n",
    "### Visualizations\n",
    "\n",
    "The last set of values that you computed should have pulled up an interesting result. While the mean trip time for Subscribers is well under 30 minutes, the mean trip time for Customers is actually _above_ 30 minutes! It will be interesting for us to look at how the trip times are distributed. In order to do this, a new library will be introduced here, `matplotlib`. Run the cell below to load the library and to generate an example plot."
   ]
  },
  {
   "cell_type": "code",
   "execution_count": 66,
   "metadata": {},
   "outputs": [
    {
     "data": {
      "image/png": "[encoded data removed]",
      "text/plain": [
       "<matplotlib.figure.Figure at 0x7fb61d3baa90>"
      ]
     },
     "metadata": {},
     "output_type": "display_data"
    }
   ],
   "source": [
    "# load library\n",
    "import matplotlib.pyplot as plt\n",
    "\n",
    "# this is a 'magic word' that allows for plots to be displayed\n",
    "# inline with the notebook. If you want to know more, see:\n",
    "# http://ipython.readthedocs.io/en/stable/interactive/magics.html\n",
    "%matplotlib inline \n",
    "\n",
    "# example histogram, data taken from bay area sample\n",
    "data = [ 7.65,  8.92,  7.42,  5.50, 16.17,  4.20,  8.98,  9.62, 11.48, 14.33,\n",
    "        19.02, 21.53,  3.90,  7.97,  2.62,  2.67,  3.08, 14.40, 12.90,  7.83,\n",
    "        25.12,  8.30,  4.93, 12.43, 10.60,  6.17, 10.88,  4.78, 15.15,  3.53,\n",
    "         9.43, 13.32, 11.72,  9.85,  5.22, 15.10,  3.95,  3.17,  8.78,  1.88,\n",
    "         4.55, 12.68, 12.38,  9.78,  7.63,  6.45, 17.38, 11.90, 11.52,  8.63,]\n",
    "plt.hist(data)\n",
    "plt.title('Distribution of Trip Durations')\n",
    "plt.xlabel('Duration (m)')\n",
    "plt.show()"
   ]
  },
  {
   "cell_type": "markdown",
   "metadata": {},
   "source": [
    "In the above cell, we collected fifty trip times in a list, and passed this list as the first argument to the `.hist()` function. This function performs the computations and creates plotting objects for generating a histogram, but the plot is actually not rendered until the `.show()` function is executed. The `.title()` and `.xlabel()` functions provide some labeling for plot context.\n",
    "\n",
    "You will now use these functions to create a histogram of the trip times for the city you selected in question 4c. Don't separate the Subscribers and Customers for now: just collect all of the trip times and plot them."
   ]
  },
  {
   "cell_type": "code",
   "execution_count": 67,
   "metadata": {},
   "outputs": [],
   "source": [
    "## Use this and additional cells to collect all of the trip times as a list ##\n",
    "## and then use pyplot functions to generate a histogram of trip times.     ##\n",
    "import csv\n",
    "#load library\n",
    "import matplotlib.pyplot as plt\n",
    "\n",
    "\n",
    "%matplotlib inline\n",
    "\n",
    "def trip_times(filename):\n",
    "    \"\"\"\n",
    "    This function reads in a file with trip data nd store thr trip duration in list\n",
    "    then generate a histogram from the data\n",
    "    \"\"\"\n",
    "    \n",
    "    with open(filename,'r') as f_in:\n",
    "        #csv reader object\n",
    "        reader=csv.DictReader(f_in)\n",
    "        \n",
    "        #empty list for storing trip duration\n",
    "        trip_time=[]\n",
    "        \n",
    "        #this loop put the trip duration from file to list\n",
    "        for row in reader:\n",
    "            f=float(row['duration'])\n",
    "            trip_time.append(f)\n",
    "            \n",
    "        plt.hist(trip_time)\n",
    "        plt.title('Distribution of Trip Durations')\n",
    "        plt.xlabel('Duration (m)')\n",
    "        plt.show()\n",
    "        "
   ]
  },
  {
   "cell_type": "code",
   "execution_count": 68,
   "metadata": {},
   "outputs": [
    {
     "data": {
      "image/png": "[encoded data removed]",
      "text/plain": [
       "<matplotlib.figure.Figure at 0x7fb61d345128>"
      ]
     },
     "metadata": {},
     "output_type": "display_data"
    }
   ],
   "source": [
    "#for New york city\n",
    "data_file = './data/NYC-2016-Summary.csv'\n",
    "trip_times(data_file)"
   ]
  },
  {
   "cell_type": "code",
   "execution_count": 69,
   "metadata": {},
   "outputs": [
    {
     "data": {
      "image/png": "[encoded data removed]",
      "text/plain": [
       "<matplotlib.figure.Figure at 0x7fb60011c588>"
      ]
     },
     "metadata": {},
     "output_type": "display_data"
    }
   ],
   "source": [
    "#for chicago city\n",
    "data_file = './data/Chicago-2016-Summary.csv'\n",
    "trip_times(data_file)"
   ]
  },
  {
   "cell_type": "code",
   "execution_count": 70,
   "metadata": {},
   "outputs": [
    {
     "data": {
      "image/png": "[encoded data removed]",
      "text/plain": [
       "<matplotlib.figure.Figure at 0x7fb6000dbc88>"
      ]
     },
     "metadata": {},
     "output_type": "display_data"
    }
   ],
   "source": [
    "#for washington city\n",
    "data_file = './data/Washington-2016-Summary.csv'\n",
    "trip_times(data_file)"
   ]
  },
  {
   "cell_type": "markdown",
   "metadata": {},
   "source": [
    "If you followed the use of the `.hist()` and `.show()` functions exactly like in the example, you're probably looking at a plot that's completely unexpected. The plot consists of one extremely tall bar on the left, maybe a very short second bar, and a whole lot of empty space in the center and right. Take a look at the duration values on the x-axis. This suggests that there are some highly infrequent outliers in the data. Instead of reprocessing the data, you will use additional parameters with the `.hist()` function to limit the range of data that is plotted. Documentation for the function can be found [[here]](https://matplotlib.org/devdocs/api/_as_gen/matplotlib.pyplot.hist.html#matplotlib.pyplot.hist).\n",
    "\n",
    "**Question 5**: Use the parameters of the `.hist()` function to plot the distribution of trip times for the Subscribers in your selected city. Do the same thing for only the Customers. Add limits to the plots so that only trips of duration less than 75 minutes are plotted. As a bonus, set the plots up so that bars are in five-minute wide intervals. For each group, where is the peak of each distribution? How would you describe the shape of each distribution?\n",
    "\n",
    "**Answer**:Peak of the distribution city vise:\n",
    "   \n",
    "           New York: Subscriber- [5-10]\n",
    "                     Customers - [20-25]\n",
    "           Chicago : Subscriber- [5-10]\n",
    "                     Customers - [20-25]\n",
    "          Washington:Subscriber- [5-10]\n",
    "                     Customers - [15-20]\n",
    "            \n",
    "            shape of each distribution: Looking at each distribution we can say that all are mostly alike, and are\n",
    "                                         Right Skewed Distributed"
   ]
  },
  {
   "cell_type": "code",
   "execution_count": 71,
   "metadata": {},
   "outputs": [],
   "source": [
    "## Use this and additional cells to answer Question 5. ##\n",
    "import matplotlib.pyplot as plt\n",
    "%matplotlib inline\n",
    "\n",
    "def user_type_hist(filename):\n",
    "    \"\"\"\n",
    "    This function reads in a file with trip data and plot it into a graph\n",
    "    \"\"\"\n",
    "    with open(filename,'r') as f_in:\n",
    "        #csv reader object\n",
    "        reader=csv.DictReader(f_in)\n",
    "        \n",
    "        #list to store  Subscribers and Customers trip duration\n",
    "        list_Sub=[]\n",
    "        list_Cus=[]\n",
    "        \n",
    "        #this loop put the trip duration from file to list\n",
    "        for row in reader:\n",
    "            if row['user_type']=='Subscriber':\n",
    "                list_Sub.append(float(row['duration']))\n",
    "            else:\n",
    "                list_Cus.append(float(row['duration']))\n",
    "                \n",
    "        #range so that only trips of duration less than 75 minutes are plotted\n",
    "        range=(0,75)  \n",
    "        \n",
    "        # 15 bins as 75/15=5, so that we could set five-minute wide intervals\n",
    "        bins=15\n",
    "        \n",
    "        plt.hist(list_Sub,bins,range)\n",
    "        plt.title('Distribution of Trip Durations for Subscriber')\n",
    "        plt.ylabel('Frequency')\n",
    "        plt.xlabel('Duration (m)')\n",
    "       # plt.xlim([0,75])\n",
    "        plt.show()\n",
    "        \n",
    "        plt.hist(list_Cus,bins,range)\n",
    "        plt.title('Distribution of Trip Durations for customers')\n",
    "        plt.ylabel('Frequency')\n",
    "        plt.xlabel('Duration (m)')\n",
    "        #plt.xlim([0,75])\n",
    "        plt.show()"
   ]
  },
  {
   "cell_type": "code",
   "execution_count": 72,
   "metadata": {},
   "outputs": [
    {
     "data": {
      "image/png": "[encoded data removed]",
      "text/plain": [
       "<matplotlib.figure.Figure at 0x7fb61d3b4080>"
      ]
     },
     "metadata": {},
     "output_type": "display_data"
    },
    {
     "data": {
      "image/png": "[encoded data removed]",
      "text/plain": [
       "<matplotlib.figure.Figure at 0x7fb5fffa7588>"
      ]
     },
     "metadata": {},
     "output_type": "display_data"
    }
   ],
   "source": [
    "#for New york city Subscribers and Customers\n",
    "data_file = './data/NYC-2016-Summary.csv'\n",
    "user_type_hist(data_file)"
   ]
  },
  {
   "cell_type": "code",
   "execution_count": 73,
   "metadata": {},
   "outputs": [
    {
     "data": {
      "image/png": "[encoded data removed]",
      "text/plain": [
       "<matplotlib.figure.Figure at 0x7fb5fff72be0>"
      ]
     },
     "metadata": {},
     "output_type": "display_data"
    },
    {
     "data": {
      "image/png": "[encoded data removed]",
      "text/plain": [
       "<matplotlib.figure.Figure at 0x7fb600704550>"
      ]
     },
     "metadata": {},
     "output_type": "display_data"
    }
   ],
   "source": [
    "#for chicago city Subscribers and Customers\n",
    "data_file = './data/Chicago-2016-Summary.csv'\n",
    "user_type_hist(data_file)"
   ]
  },
  {
   "cell_type": "code",
   "execution_count": 74,
   "metadata": {},
   "outputs": [
    {
     "data": {
      "image/png": "[encoded data removed]",
      "text/plain": [
       "<matplotlib.figure.Figure at 0x7fb6004f6320>"
      ]
     },
     "metadata": {},
     "output_type": "display_data"
    },
    {
     "data": {
      "image/png": "[encoded data removed]",
      "text/plain": [
       "<matplotlib.figure.Figure at 0x7fb60068ce48>"
      ]
     },
     "metadata": {},
     "output_type": "display_data"
    }
   ],
   "source": [
    "#for washington city Subscribers and Customers\n",
    "data_file = './data/Washington-2016-Summary.csv'\n",
    "user_type_hist(data_file)"
   ]
  },
  {
   "cell_type": "markdown",
   "metadata": {
    "collapsed": true
   },
   "source": [
    "<a id='eda_continued'></a>\n",
    "## Performing Your Own Analysis\n",
    "\n",
    "So far, you've performed an initial exploration into the data available. You have compared the relative volume of trips made between three U.S. cities and the ratio of trips made by Subscribers and Customers. For one of these cities, you have investigated differences between Subscribers and Customers in terms of how long a typical trip lasts. Now it is your turn to continue the exploration in a direction that you choose. Here are a few suggestions for questions to explore:\n",
    "\n",
    "- How does ridership differ by month or season? Which month / season has the highest ridership? Does the ratio of Subscriber trips to Customer trips change depending on the month or season?\n",
    "- Is the pattern of ridership different on the weekends versus weekdays? On what days are Subscribers most likely to use the system? What about Customers? Does the average duration of rides change depending on the day of the week?\n",
    "- During what time of day is the system used the most? Is there a difference in usage patterns for Subscribers and Customers?\n",
    "\n",
    "If any of the questions you posed in your answer to question 1 align with the bullet points above, this is a good opportunity to investigate one of them. As part of your investigation, you will need to create a visualization. If you want to create something other than a histogram, then you might want to consult the [Pyplot documentation](https://matplotlib.org/devdocs/api/pyplot_summary.html). In particular, if you are plotting values across a categorical variable (e.g. city, user type), a bar chart will be useful. The [documentation page for `.bar()`](https://matplotlib.org/devdocs/api/_as_gen/matplotlib.pyplot.bar.html#matplotlib.pyplot.bar) includes links at the bottom of the page with examples for you to build off of for your own use.\n",
    "\n",
    "**Question 6**: Continue the investigation by exploring another question that could be answered by the data available. Document the question you want to explore below. Your investigation should involve at least two variables and should compare at least two groups. You should also use at least one visualization as part of your explorations.\n",
    "\n",
    "**Answer**: I have done 3 more investigation:\n",
    "             \n",
    "             \n",
    "            Data taken of New York city. \n",
    "            1: Each day which user makes the most rides(Subscribers or Customer):-\n",
    "                   On Friday user type:   Subscriber use the bike most.\n",
    "                   On Saturday user type: Subscriber use the bike most.\n",
    "                   On Sunday user type:   Subscriber use the bike most.\n",
    "                   On Monday user type:   Subscriber use the bike most.\n",
    "                   On Tuesday user type:  Subscriber use the bike most.\n",
    "                   On Wednesday user type:Subscriber use the bike most.\n",
    "                   On Thursday user type: Subscriber use the bike most.\n",
    "                   \n",
    "              -We can clearly see from the data that each day subscribers are using the bike most number of time.\n",
    "               \n",
    "            2: WeekEnds vs Weekday- This investigation focuses that wether on weekends bike is used the most\n",
    "                                     or in weekDays, on an average.\n",
    "                   Average rides made on weekdays: 0.77 \n",
    "                   Average rides made on weekends: 0.23 \n",
    "              -Its clear from the data we get that, on weekdays means working days bike is used the most.\n",
    "             \n",
    "            3: The most Busy day- This investigation focuses on finding out that,\n",
    "                                  which user type uses the bike most on which day.\n",
    "                    Subscriber count was high on Wednesday. \n",
    "                    Customers count was high on Saturday. \n",
    "                    Totaly all most riders count was high on Wednesday.\n",
    "             "
   ]
  },
  {
   "cell_type": "code",
   "execution_count": 75,
   "metadata": {},
   "outputs": [],
   "source": [
    "## Use this and additional cells to continue to explore the dataset. ##\n",
    "## Once you have performed your exploration, document your findings  ##\n",
    "## in the Markdown cell above.                                       ##\n",
    "\"\"\"This function return a nested dictonary which contain the key as Days and their value is the number of subscriber\n",
    "   and customers and total users count.\"\"\"\n",
    "#from collections import OrderedDict\n",
    "\n",
    "def rider_per_day(data_file):\n",
    "    \n",
    "    with open(data_file,'r') as f_in:\n",
    "        reader=csv.DictReader(f_in)\n",
    "        \n",
    "        #dictionary to store the days as keys and their info as values\n",
    "        dict_count={}\n",
    "        #dict_count = OrderedDict()\n",
    "        #this loop put values from file to dictionary\n",
    "        for row in reader:\n",
    "            if row['day_of_week'] not in dict_count:\n",
    "                #initilize the dictionary with initial values for subscriber, customers and total riders as 0\n",
    "                #as initially count is zero\n",
    "                dict_count[row['day_of_week']]={'Sus_rides':0,'Cus_rides':0,'total_rides':0}\n",
    "            #Sus_rides= number of subscriber\n",
    "            #Cus_rides= number of customers\n",
    "            #total_rides= total number of users\n",
    "            if row['user_type']=='Subscriber':\n",
    "                dict_count[row['day_of_week']]['Sus_rides']+=1\n",
    "            else:\n",
    "                dict_count[row['day_of_week']]['Cus_rides']+=1\n",
    "            dict_count[row['day_of_week']]['total_rides']+=1\n",
    "            \n",
    "        #print(dict_count)\n",
    "        return dict_count\n",
    "        "
   ]
  },
  {
   "cell_type": "code",
   "execution_count": 76,
   "metadata": {},
   "outputs": [],
   "source": [
    "\"\"\" \n",
    "this function return a dictionary which contains keys as days \n",
    "and their value as (Subscribers or Customers) as per the maximum ride.\n",
    "\n",
    "\"\"\"\n",
    "def day_count(data_file):\n",
    "    with open(data_file,'r') as f_in:\n",
    "        reader=csv.DictReader(f_in)\n",
    "        \n",
    "        #it reuses the function rider_per_day(data_file)\n",
    "        dict_count=rider_per_day(data_file)\n",
    "        \n",
    "        #dictionary which contains keys as days \n",
    "        #and their value as (Subscribers or Customers)\n",
    "        day_counts={}\n",
    "        \n",
    "        for row in reader:\n",
    "            #compare Subscribers count and Customers count per day\n",
    "            if dict_count[row['day_of_week']]['Sus_rides']>dict_count[row['day_of_week']]['Cus_rides']:\n",
    "                day_counts[row['day_of_week']]='Subscriber'\n",
    "            else:\n",
    "                day_counts[row['day_of_week']]='Customer'\n",
    "        #print(day_counts)\n",
    "        return day_counts\n",
    "        "
   ]
  },
  {
   "cell_type": "code",
   "execution_count": 77,
   "metadata": {},
   "outputs": [
    {
     "name": "stdout",
     "output_type": "stream",
     "text": [
      "on Friday user type: Subscriber use the bike most\n",
      "on Saturday user type: Subscriber use the bike most\n",
      "on Sunday user type: Subscriber use the bike most\n",
      "on Monday user type: Subscriber use the bike most\n",
      "on Tuesday user type: Subscriber use the bike most\n",
      "on Wednesday user type: Subscriber use the bike most\n",
      "on Thursday user type: Subscriber use the bike most\n"
     ]
    }
   ],
   "source": [
    "#for New york city \n",
    "#this tell us that what type of user use the bikes most in particular day\n",
    "data_file = './data/NYC-2016-Summary.csv'\n",
    "dayCount=day_count(data_file)\n",
    "for day,user in dayCount.items():\n",
    "    print(\"on {} user type: {} use the bike most\".format(day,user) )"
   ]
  },
  {
   "cell_type": "code",
   "execution_count": 87,
   "metadata": {},
   "outputs": [],
   "source": [
    "\"\"\"\n",
    "this function return average of number of rides made on weekdays \n",
    "and weekend.\n",
    "\"\"\"\n",
    "def week_weekend(data_file):\n",
    "    with open(data_file,'r') as f_in:\n",
    "        reader=csv.DictReader(f_in)\n",
    "        \n",
    "        #it reuses the function rider_per_day(data_file)\n",
    "        #which store total number of rides of per day\n",
    "        dict_count=rider_per_day(data_file)\n",
    "        \n",
    "        #initilize the count variables as zero\n",
    "        #it will store count of the ride made in week days and weekends\n",
    "        weekDay_count=0\n",
    "        weekend_count=0\n",
    "        \n",
    "        for day,info in dict_count.items():\n",
    "            #for weekend\n",
    "            if day=='Saturday' or day=='Sunday':\n",
    "                weekend_count+=info['total_rides']\n",
    "            else:\n",
    "                #for weekdays\n",
    "                weekDay_count+=info['total_rides']\n",
    "        #total number of rider per week        \n",
    "        Total_count=weekDay_count+weekend_count\n",
    "         \n",
    "        #finding the average for both weekdays and weekends\n",
    "        weekDay_count=weekDay_count/Total_count\n",
    "        weekend_count=weekend_count/Total_count\n",
    "        \n",
    "        #limiting-floats-to-two-decimal-points\n",
    "        weekDay_count= float(\"{0:.2f}\".format(weekDay_count))\n",
    "        weekend_count= float(\"{0:.2f}\".format(weekend_count))\n",
    "        \n",
    "        #print(weekend_count,weekDay_count)\n",
    "        return weekend_count,weekDay_count"
   ]
  },
  {
   "cell_type": "code",
   "execution_count": 88,
   "metadata": {},
   "outputs": [
    {
     "name": "stdout",
     "output_type": "stream",
     "text": [
      "Average rides made on weekdays: 0.77 \n",
      "Average rides made on weekends: 0.23 \n"
     ]
    }
   ],
   "source": [
    "\"\"\"for New york city, weekend vs weekdays\n",
    "\n",
    "-this tell us that wether due to weekend, is there a rise in number of user than regular week days\n",
    "-it compares average rides made on weekdays and weekend\n",
    "\"\"\"\n",
    "data_file = './data/NYC-2016-Summary.csv'\n",
    "weekend_count,weekDay_count=week_weekend(data_file)\n",
    "print(\"Average rides made on weekdays: {1} \\nAverage rides made on weekends: {0} \".format(weekend_count,weekDay_count))"
   ]
  },
  {
   "cell_type": "code",
   "execution_count": 80,
   "metadata": {},
   "outputs": [],
   "source": [
    "\"\"\"\n",
    "this function return the most busy day for each customer, subscriber and in total users.\n",
    "\"\"\"\n",
    "def busy_day(data_file):\n",
    "    with open(data_file,'r') as f_in:\n",
    "        reader=csv.DictReader(f_in)\n",
    "        \n",
    "        #this function reuses rider_per_day(data_file)\n",
    "        #as it return an dictionary which stores rides made by each type of users\n",
    "        dict_count=rider_per_day(data_file)\n",
    "        \n",
    "        #initilization\n",
    "        #max_Sub,max_Cus,max_tot will store maximum number of riders for each individual group\n",
    "        #Sub_day,Cus_day,Tot_day, this will store days which will have maximum number of rides for each group\n",
    "        max_Sub,max_Cus,max_tot=0,0,0\n",
    "        Sub_day,Cus_day,Tot_day='','',''\n",
    "        \n",
    "        #this loop iterate the dictionary\n",
    "        for day,info in dict_count.items():\n",
    "            #for finding out the day on which maximum number of rides were made for Subscriber\n",
    "            if max_Sub<info['Sus_rides']:\n",
    "                max_Sub=info['Sus_rides']\n",
    "                Sub_day=day\n",
    "            #for finding out the day on which maximum number of rides were made for Customers\n",
    "            if max_Cus<info['Cus_rides']:\n",
    "                max_Cus=info['Cus_rides']\n",
    "                Cus_day=day\n",
    "            #for finding out the day on which maximum number of rides were made\n",
    "            if max_tot<info['total_rides']:\n",
    "                max_tot=info['total_rides']\n",
    "                Tot_day=day\n",
    "       # print(max_Sub,max_Cus,max_tot)        \n",
    "       # print(Sub_day,Cus_day,Tot_day)        \n",
    "        return Sub_day,Cus_day,Tot_day     \n",
    "        \n",
    "        \n",
    "        "
   ]
  },
  {
   "cell_type": "code",
   "execution_count": 81,
   "metadata": {
    "scrolled": true
   },
   "outputs": [
    {
     "name": "stdout",
     "output_type": "stream",
     "text": [
      " Most Subscriber rides bike on Wednesday \n",
      " Most Customers rides bike on Saturday \n",
      " Most Riders rides on Wednesday\n"
     ]
    }
   ],
   "source": [
    "#for New york city, most busy day\n",
    "#this tell us on which day subscriber and customer use the bikes the most \n",
    "data_file = './data/NYC-2016-Summary.csv'\n",
    "Sub_day,Cus_day,Tot_day=busy_day(data_file)\n",
    "print(\" Most Subscriber rides bike on {} \\n Most Customers rides bike on {} \\n Most Riders rides on {}\".format(Sub_day,Cus_day,Tot_day)) "
   ]
  },
  {
   "cell_type": "code",
   "execution_count": 82,
   "metadata": {},
   "outputs": [
    {
     "data": {
      "image/png": "[encoded data removed]",
      "text/plain": [
       "<matplotlib.figure.Figure at 0x7fb61d345a20>"
      ]
     },
     "metadata": {},
     "output_type": "display_data"
    }
   ],
   "source": [
    "\"\"\"\n",
    "visuilization to check which day user rides the bike the most\n",
    "\"\"\"\n",
    "import matplotlib.pyplot as plt\n",
    "%matplotlib inline\n",
    "plt.style.use('ggplot')\n",
    "\n",
    "x = ['Fri', 'Sat', 'Sun', 'Mon', 'Tue', 'Wed','Thr']\n",
    "rides_per_day = []\n",
    "\n",
    "data_file = './data/NYC-2016-Summary.csv'\n",
    "dict_count=rider_per_day(data_file)\n",
    "\n",
    "for day,info in dict_count.items():\n",
    "    rides_per_day.append(info['total_rides'])\n",
    "    #print(rides_per_day)   \n",
    "    \n",
    "    \n",
    "x_position = [i for i, _ in enumerate(x)]\n",
    "\n",
    "plt.bar(x_position,rides_per_day)\n",
    "plt.xlabel(\"Day\")\n",
    "plt.ylabel(\"No. of rides\")\n",
    "plt.title(\"No. of rides per day\")\n",
    "\n",
    "plt.xticks(x_position, x)\n",
    "\n",
    "plt.show()\n"
   ]
  },
  {
   "cell_type": "code",
   "execution_count": null,
   "metadata": {},
   "outputs": [],
   "source": [
    "#from the above graph we can see that on wednesday most number of users ride the bike"
   ]
  },
  {
   "cell_type": "code",
   "execution_count": 83,
   "metadata": {},
   "outputs": [
    {
     "data": {
      "image/png": "[encoded data removed]",
      "text/plain": [
       "<matplotlib.figure.Figure at 0x7fb6005139b0>"
      ]
     },
     "metadata": {},
     "output_type": "display_data"
    }
   ],
   "source": [
    "\"\"\"\n",
    "this plot a graph which compares the user_type per day\n",
    "plus\n",
    "we can also tell from it that on what day subscriber ride the most and on which day customer\n",
    "\"\"\"\n",
    "import numpy as np\n",
    "\n",
    "N = 7\n",
    "Sub = []\n",
    "Cus = []\n",
    "\n",
    "data_file = './data/NYC-2016-Summary.csv'\n",
    "dict_count=rider_per_day(data_file)\n",
    "\n",
    "for day,info in dict_count.items():\n",
    "    Sub.append(info['Sus_rides'])\n",
    "    Cus.append(info['Cus_rides'])\n",
    "\n",
    "index = np.arange(N) \n",
    "width = 0.50       \n",
    "plt.bar(index, Sub, width, label='Subscriber')\n",
    "plt.bar(index + width, Cus, width,label='Customers')\n",
    "\n",
    "plt.ylabel('No of rides')\n",
    "plt.title('days')\n",
    "\n",
    "plt.xticks(index + width / 2, ('Fri', 'Sat', 'Sun', 'Mon', 'Tue','Wed','Thr'))\n",
    "plt.legend()\n",
    "plt.show()"
   ]
  },
  {
   "cell_type": "code",
   "execution_count": 84,
   "metadata": {},
   "outputs": [],
   "source": [
    "#from grap above we can tell that on wednesday subscribers rate was high and on saturday customers rate was high."
   ]
  },
  {
   "cell_type": "markdown",
   "metadata": {},
   "source": [
    "<a id='conclusions'></a>\n",
    "## Conclusions\n",
    "\n",
    "Congratulations on completing the project! This is only a sampling of the data analysis process: from generating questions, wrangling the data, and to exploring the data. Normally, at this point in the data analysis process, you might want to draw conclusions about the data by performing a statistical test or fitting the data to a model for making predictions. There are also a lot of potential analyses that could be performed on the data which are not possible with only the data provided. For example, detailed location data has not been investigated. Where are the most commonly used docks? What are the most common routes? As another example, weather has potential to have a large impact on daily ridership. How much is ridership impacted when there is rain or snow? Are subscribers or customers affected more by changes in weather?\n",
    "\n",
    "**Question 7**: Putting the bike share data aside, think of a topic or field of interest where you would like to be able to apply the techniques of data science. What would you like to be able to learn from your chosen subject?\n",
    "\n",
    "**Answer**: Data Science is an very intresting technology to study and it could be applied in various places to improve lot of things just by visualizing the data.\n",
    "           \n",
    " -Indain railway is one of the largest railway service in world and one of the most profitable also. By adding data science to it, its productivity can b incresed, maintenance could b improved, it could reach to the places where citizen actually nead it.\n",
    "- We can compare metro with classic railways, and can find out intresting data that which is most benificial for citizens.\n",
    "-From this data of railway debate about bringing bullet train in India will also finish, as data will tell every thing\n",
    "    \n",
    "           \n",
    "> **Tip**: If we want to share the results of our analysis with others, we aren't limited to giving them a copy of the jupyter Notebook (.ipynb) file. We can also export the Notebook output in a form that can be opened even for those without Python installed. From the **File** menu in the upper left, go to the **Download as** submenu. You can then choose a different format that can be viewed more generally, such as HTML (.html) or\n",
    "PDF (.pdf). You may need additional packages or software to perform these exports.\n",
    "\n",
    "> If you are working on this project via the Project Notebook page in the classroom, you can also submit this project directly from the workspace. **Before you do that**, you should save an HTML copy of the completed project to the workspace by running the code cell below. If it worked correctly, the output code should be a 0, and if you click on the jupyter icon in the upper left, you should see your .html document in the workspace directory. Alternatively, you can download the .html copy of your report following the steps in the previous paragraph, then _upload_ the report to the directory (by clicking the jupyter icon).\n",
    "\n",
    "> Either way, once you've gotten the .html report in your workspace, you can complete your submission by clicking on the \"Submit Project\" button to the lower-right hand side of the workspace."
   ]
  },
  {
   "cell_type": "code",
   "execution_count": 89,
   "metadata": {},
   "outputs": [
    {
     "data": {
      "text/plain": [
       "0"
      ]
     },
     "execution_count": 89,
     "metadata": {},
     "output_type": "execute_result"
    }
   ],
   "source": [
    "from subprocess import call\n",
    "call(['python', '-m', 'nbconvert', 'Bike_Share_Analysis.ipynb'])"
   ]
  },
  {
   "cell_type": "code",
   "execution_count": null,
   "metadata": {},
   "outputs": [],
   "source": []
  }
 ],
 "metadata": {
  "anaconda-cloud": {},
  "kernelspec": {
   "display_name": "Python 3",
   "language": "python",
   "name": "python3"
  },
  "language_info": {
   "codemirror_mode": {
    "name": "ipython",
    "version": 3
   },
   "file_extension": ".py",
   "mimetype": "text/x-python",
   "name": "python",
   "nbconvert_exporter": "python",
   "pygments_lexer": "ipython3",
   "version": "3.6.3"
  }
 },
 "nbformat": 4,
 "nbformat_minor": 1
}
